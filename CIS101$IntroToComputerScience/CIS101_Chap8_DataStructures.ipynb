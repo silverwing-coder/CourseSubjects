{
  "nbformat": 4,
  "nbformat_minor": 0,
  "metadata": {
    "colab": {
      "provenance": [],
      "authorship_tag": "ABX9TyNH+JH9D66w//mwOabzDhjr",
      "include_colab_link": true
    },
    "kernelspec": {
      "name": "python3",
      "display_name": "Python 3"
    },
    "language_info": {
      "name": "python"
    }
  },
  "cells": [
    {
      "cell_type": "markdown",
      "metadata": {
        "id": "view-in-github",
        "colab_type": "text"
      },
      "source": [
        "<a href=\"https://colab.research.google.com/github/silverwing-coder/AlgorithmsDataStructure/blob/master/CIS101_Chap8_DataStructures.ipynb\" target=\"_parent\"><img src=\"https://colab.research.google.com/assets/colab-badge.svg\" alt=\"Open In Colab\"/></a>"
      ]
    },
    {
      "cell_type": "markdown",
      "source": [
        "<u><h3>Lab Environment Setup</h3></u>\n",
        "\n",
        "1. Create an account on google\n",
        "2. Create google drive\n",
        "3. Log into google\n",
        "4. Create a google colab file: \"CIS101_DataStructure.ipynb\""
      ],
      "metadata": {
        "id": "UY-KOoNVMtEe"
      }
    },
    {
      "cell_type": "markdown",
      "source": [
        "<h4>List ADT</h4>"
      ],
      "metadata": {
        "id": "HQyXjZcU14nn"
      }
    },
    {
      "cell_type": "code",
      "execution_count": 5,
      "metadata": {
        "id": "S4j-5SOS1w-z"
      },
      "outputs": [],
      "source": [
        "# original data\n",
        "e1 = [\"Joe Thomson\", 14.25, \"Marketing\"]\n",
        "e2 = [\"Sue Smith\", 25.50, \"Sales\"]\n",
        "e3 = [\"Earl White\", 12.50, \"Marketing\"]\n",
        "e4 = [\"Mary Brown\", 14.50, \"Sales\"]\n",
        "e5 = [\"Bill Johnson\", 8.50, \"Sales\"]\n",
        "\n",
        "# new data for add / insert\n",
        "e6 = [\"Kim Jones\", 24.50, \"Marketing\"]"
      ]
    },
    {
      "cell_type": "code",
      "source": [
        "# Abstract Data Type\n",
        "class List:\n",
        "\n",
        "  # def __init__(self):\n",
        "  #   pass\n",
        "  #   raise NotImplementedError\n",
        "\n",
        "  def add(element):\n",
        "    pass\n",
        "\n",
        "  def get(idx):\n",
        "    pass\n",
        "\n",
        "  def insertAt(idx, element):\n",
        "    pass\n",
        "\n",
        "  def remove(idx):\n",
        "    pass"
      ],
      "metadata": {
        "id": "wL-Zxyc2I49N"
      },
      "execution_count": 6,
      "outputs": []
    },
    {
      "cell_type": "markdown",
      "source": [
        "<h4>1. ArrayList Implementation</h4>"
      ],
      "metadata": {
        "id": "JNotImbELKnd"
      }
    },
    {
      "cell_type": "code",
      "source": [
        "class ArrayList(List):\n",
        "\n",
        "  size = 0\n",
        "  elements = []\n",
        "\n",
        "  # constructor: initialize objects when created\n",
        "  def __init__(self):\n",
        "    self.size = 0\n",
        "    self.elements = [0 for i in range (0, 10)]\n",
        "\n",
        "  def add(self, element):\n",
        "    self.elements[self.size] = element\n",
        "    self.size = self.size + 1\n",
        "\n",
        "  def get(self, idx):\n",
        "    return self.elements[idx]\n",
        "\n",
        "  def insertAt(self, idx, element):\n",
        "    for i in range(self.size, idx, -1):\n",
        "      self.elements[i] = self.elements[i - 1]\n",
        "    self.elements[idx] = element\n",
        "    self.size = self.size + 1\n",
        "\n",
        "  def remove(self, idx):\n",
        "    for i in range(idx, self.size):\n",
        "      self.elements[i] = self.elements[i + 1]\n",
        "    self.size = self.size - 1\n",
        "\n",
        "\n",
        "# execute()\n",
        "arrayList = ArrayList()\n",
        "arrayList.add(e1)\n",
        "arrayList.add(e2)\n",
        "arrayList.add(e3)\n",
        "arrayList.add(e4)\n",
        "arrayList.add(e5)\n",
        "\n",
        "# execute get()\n",
        "for i in range (0, arrayList.size):\n",
        "  print(arrayList.get(i))\n",
        "\n",
        "# execute insertAt()\n",
        "arrayList.insertAt(3, e6)\n",
        "\n",
        "print(\"\\nafter insertAt()\")\n",
        "for i in range (0, arrayList.size):\n",
        "  print(arrayList.get(i))\n",
        "\n",
        "# execute remove()\n",
        "arrayList.remove(3)\n",
        "print(\"\\nafter remove()\")\n",
        "for i in range (0, arrayList.size):\n",
        "  print(arrayList.get(i))\n",
        "\n"
      ],
      "metadata": {
        "colab": {
          "base_uri": "https://localhost:8080/"
        },
        "id": "0J63RnzP3M-x",
        "outputId": "63bee473-c6ff-4d99-921b-aeae5c270937"
      },
      "execution_count": 7,
      "outputs": [
        {
          "output_type": "stream",
          "name": "stdout",
          "text": [
            "['Joe Thomson', 14.25, 'Marketing']\n",
            "['Sue Smith', 25.5, 'Sales']\n",
            "['Earl White', 12.5, 'Marketing']\n",
            "['Mary Brown', 14.5, 'Sales']\n",
            "['Bill Johnson', 8.5, 'Sales']\n",
            "\n",
            "after insertAt()\n",
            "['Joe Thomson', 14.25, 'Marketing']\n",
            "['Sue Smith', 25.5, 'Sales']\n",
            "['Earl White', 12.5, 'Marketing']\n",
            "['Kim Jones', 24.5, 'Marketing']\n",
            "['Mary Brown', 14.5, 'Sales']\n",
            "['Bill Johnson', 8.5, 'Sales']\n",
            "\n",
            "after remove()\n",
            "['Joe Thomson', 14.25, 'Marketing']\n",
            "['Sue Smith', 25.5, 'Sales']\n",
            "['Earl White', 12.5, 'Marketing']\n",
            "['Mary Brown', 14.5, 'Sales']\n",
            "['Bill Johnson', 8.5, 'Sales']\n"
          ]
        }
      ]
    },
    {
      "cell_type": "markdown",
      "source": [
        "<h4>2. LinkedList Implementation</h4>"
      ],
      "metadata": {
        "id": "yKIkCLLcLToj"
      }
    },
    {
      "cell_type": "code",
      "source": [
        "# define node element\n",
        "class SingleLinkNode:\n",
        "  name = \"\"\n",
        "  salary = 0\n",
        "  department = \"\"\n",
        "  next = 0\n",
        "\n",
        "  # constructor\n",
        "  def __init__(self, element):\n",
        "    self.name = element[0]\n",
        "    self.salary = element[1]\n",
        "    self.department = element[2]\n",
        "    self.next = 0\n",
        "\n",
        "class LinkedList(List):\n",
        "  head = 0\n",
        "  tail = 0\n",
        "  size = 0\n",
        "\n",
        "  def add(self, element):\n",
        "\n",
        "    # print(element[0], element[1], element[2])\n",
        "    node = SingleLinkNode(element)\n",
        "    if(self.size == 0):\n",
        "      self.head = node\n",
        "      self.tail = node\n",
        "    else:\n",
        "      self.tail.next = node\n",
        "      self.tail = self.tail.next\n",
        "\n",
        "    self.size = self.size + 1\n",
        "\n",
        "  def get(self, idx):\n",
        "    pointer = self.head\n",
        "    while(idx > 0):\n",
        "      pointer = pointer.next\n",
        "      idx = idx - 1\n",
        "    return pointer\n",
        "\n",
        "  def insertAt(self, idx, element):\n",
        "    pointer = self.head\n",
        "\n",
        "    while(idx -1 > 0):\n",
        "      pointer = pointer.next\n",
        "      idx = idx - 1\n",
        "\n",
        "    newNode = SingleLinkNode(element)\n",
        "    newNode.next = pointer.next\n",
        "    pointer.next = newNode\n",
        "\n",
        "    self.size = self.size + 1\n",
        "\n",
        "  def remove(self, idx):\n",
        "    pointer = self.head\n",
        "\n",
        "    while(idx - 1 > 0):\n",
        "      pointer = pointer.next\n",
        "      idx = idx - 1\n",
        "\n",
        "    pointer.next = pointer.next.next\n",
        "    self.size = self.size - 1\n",
        "\n",
        "\n",
        "linkedList = LinkedList()\n",
        "\n",
        "linkedList.add(e1)\n",
        "linkedList.add(e2)\n",
        "linkedList.add(e3)\n",
        "linkedList.add(e4)\n",
        "linkedList.add(e5)\n",
        "\n",
        "print(linkedList.head.name)\n",
        "print(linkedList.tail.name)\n",
        "print(linkedList.size)\n",
        "\n",
        "# execute get()\n",
        "for i in range(0, linkedList.size):\n",
        "  print(linkedList.get(i).name)\n",
        "\n",
        "linkedList.insertAt(3, e6)\n",
        "\n",
        "print(\"\\nafter insertAt()\")\n",
        "for i in range(0, linkedList.size):\n",
        "  print(linkedList.get(i).name)\n",
        "\n",
        "linkedList.remove(3)\n",
        "\n",
        "print(\"\\nafter remove()\")\n",
        "for i in range(0, linkedList.size):\n",
        "  print(linkedList.get(i).name)\n",
        "\n"
      ],
      "metadata": {
        "colab": {
          "base_uri": "https://localhost:8080/"
        },
        "id": "B3xKbj-W9Iwm",
        "outputId": "1b42bea1-25da-4d88-ae50-a63b03a9103b"
      },
      "execution_count": 11,
      "outputs": [
        {
          "output_type": "stream",
          "name": "stdout",
          "text": [
            "Joe Thomson\n",
            "Bill Johnson\n",
            "5\n",
            "Joe Thomson\n",
            "Sue Smith\n",
            "Earl White\n",
            "Mary Brown\n",
            "Bill Johnson\n",
            "\n",
            "after insertAt()\n",
            "Joe Thomson\n",
            "Sue Smith\n",
            "Earl White\n",
            "Kim Jones\n",
            "Mary Brown\n",
            "Bill Johnson\n",
            "\n",
            "after remove()\n",
            "Joe Thomson\n",
            "Sue Smith\n",
            "Earl White\n",
            "Mary Brown\n",
            "Bill Johnson\n"
          ]
        }
      ]
    },
    {
      "cell_type": "markdown",
      "source": [
        "<h4>3. Queue Implementation by Linked List Data Structure</h4>"
      ],
      "metadata": {
        "id": "l8TX8g25ZIZ0"
      }
    },
    {
      "cell_type": "code",
      "source": [
        "class Queue:\n",
        "  def enqueue(element):\n",
        "    pass\n",
        "\n",
        "  def dequeue():\n",
        "    pass\n",
        "\n",
        "  def getFirst():\n",
        "    pass\n",
        "\n",
        "# use SingleLinkedNode class\n",
        "class LinkedQueue(Queue):\n",
        "  head = 0\n",
        "  tail = 0\n",
        "  size = 0\n",
        "\n",
        "  def enque(self, element):\n",
        "    node = SingleLinkNode(element)\n",
        "    if(self.size == 0):\n",
        "      self.head = node\n",
        "      self.tail = node\n",
        "    else:\n",
        "      self.tail.next = node\n",
        "      self.tail = self.tail.next\n",
        "\n",
        "    self.size = self.size + 1\n",
        "\n",
        "  def deque(self):\n",
        "    returnElement = self.head\n",
        "    self.head = self.head.next\n",
        "    self.size = self.size - 1\n",
        "    return returnElement\n",
        "\n",
        "  def getFirst(self):\n",
        "    return self.head\n",
        "\n",
        "\n",
        "queue = LinkedQueue()\n",
        "\n",
        "queue.enque(e1)\n",
        "queue.enque(e2)\n",
        "queue.enque(e3)\n",
        "queue.enque(e4)\n",
        "queue.enque(e5)\n",
        "\n",
        "print(queue.size)\n",
        "print(queue.head.name)\n",
        "print(queue.tail.name)\n",
        "\n",
        "print(\"\\nafter deque()\")\n",
        "print(queue.deque().name)\n",
        "print(queue.size)\n",
        "\n",
        "queue.enque(e6)\n",
        "\n",
        "print(\"\\nafter deque()\")\n",
        "print(queue.size)\n",
        "print(queue.head.name)\n",
        "print(queue.tail.name)\n"
      ],
      "metadata": {
        "colab": {
          "base_uri": "https://localhost:8080/"
        },
        "id": "XESpPcTiQPxo",
        "outputId": "5930ddc4-375a-4742-9b7b-d4ff51442b59"
      },
      "execution_count": 14,
      "outputs": [
        {
          "output_type": "stream",
          "name": "stdout",
          "text": [
            "5\n",
            "Joe Thomson\n",
            "Bill Johnson\n",
            "\n",
            "after deque()\n",
            "Joe Thomson\n",
            "4\n",
            "\n",
            "after deque()\n",
            "5\n",
            "Sue Smith\n",
            "Kim Jones\n"
          ]
        }
      ]
    },
    {
      "cell_type": "markdown",
      "source": [
        "<h4>4. Stack Implementation by Linked List Data Structure</h4>"
      ],
      "metadata": {
        "id": "maP8KY9WdRUA"
      }
    },
    {
      "cell_type": "code",
      "source": [
        "class Stack():\n",
        "  def push(element):\n",
        "    pass\n",
        "\n",
        "  def pop():\n",
        "    pass\n",
        "\n",
        "  def getTop():\n",
        "    pass\n",
        "\n",
        "# use SingleLinkedNode class\n",
        "class LinkedStack(Stack):\n",
        "  top = 0\n",
        "  size = 0\n",
        "\n",
        "  def push(self, element):\n",
        "    node = SingleLinkNode(element)\n",
        "    if(self.size == 0):\n",
        "      self.top = node\n",
        "    else:\n",
        "      node.next = self.top\n",
        "      self.top = node;\n",
        "\n",
        "    self.size = self.size + 1\n",
        "\n",
        "  def pop(self):\n",
        "    returnElement = self.top\n",
        "    self.top = self.top.next\n",
        "    self.size = self.size - 1\n",
        "    return returnElement\n",
        "\n",
        "  def getTop(self):\n",
        "    return self.top\n",
        "\n",
        "\n",
        "stack = LinkedStack()\n",
        "\n",
        "stack.push(e1)\n",
        "stack.push(e2)\n",
        "stack.push(e3)\n",
        "stack.push(e4)\n",
        "stack.push(e5)\n",
        "\n",
        "print(stack.top.name)\n",
        "print(stack.size)\n",
        "\n",
        "print(\"\\nafter pop()\")\n",
        "print(stack.pop().name)\n",
        "print(stack.size)\n",
        "\n",
        "stack.push(e6)\n",
        "\n",
        "print(\"\\nafter push() Top\")\n",
        "print(stack.getTop().name)\n",
        "print(stack.size)\n",
        "\n",
        "print(\"\\nafter pop()\")\n",
        "print(stack.pop().name)\n",
        "print(stack.size)\n",
        "\n"
      ],
      "metadata": {
        "colab": {
          "base_uri": "https://localhost:8080/"
        },
        "id": "tPOPpGP3cEIu",
        "outputId": "97bc47fa-52ef-4ea1-fba4-39c04bc4a26e"
      },
      "execution_count": 17,
      "outputs": [
        {
          "output_type": "stream",
          "name": "stdout",
          "text": [
            "Bill Johnson\n",
            "5\n",
            "\n",
            "after pop()\n",
            "Bill Johnson\n",
            "4\n",
            "\n",
            "after push() Top\n",
            "Kim Jones\n",
            "5\n",
            "\n",
            "after pop()\n",
            "Kim Jones\n",
            "4\n"
          ]
        }
      ]
    },
    {
      "cell_type": "markdown",
      "source": [
        "<h4>5. Tree Implementation by Linked List Data Structure</h4>"
      ],
      "metadata": {
        "id": "iRcQIOOmgPhq"
      }
    },
    {
      "cell_type": "code",
      "source": [
        "# define a double linked node for left and right child pointer\n",
        "class DoubleLinkNode:\n",
        "  name = \"\"\n",
        "  salary = 0\n",
        "  department = \"\"\n",
        "  left = 0\n",
        "  right = 0\n",
        "\n",
        "  def __init__(self, element):\n",
        "    self.name = element[0]\n",
        "    self.salary = element[1]\n",
        "    self.department = element[2]\n",
        "\n",
        "class Tree(List):\n",
        "  root = 0\n",
        "  size = 0\n",
        "\n",
        "  def insert(self, element):\n",
        "    node = DoubleLinkNode(element)\n",
        "    if(self.size == 0):\n",
        "      self.root = node\n",
        "      self.size = self.size + 1\n",
        "    else:\n",
        "      pointer = self.root\n",
        "      while(True):\n",
        "        if(pointer.name > node.name):\n",
        "          if(pointer.left == 0):\n",
        "            pointer.left = node\n",
        "            self.size = self.size + 1\n",
        "            break\n",
        "          else:\n",
        "            pointer = pointer.left\n",
        "        else:\n",
        "          if(pointer.right == 0):\n",
        "            pointer.right = node\n",
        "            self.size = self.size + 1\n",
        "            break\n",
        "          else:\n",
        "            pointer = pointer.left\n",
        "\n",
        "tree = Tree()\n",
        "tree.insert(e1)\n",
        "tree.insert(e2)\n",
        "tree.insert(e3)\n",
        "tree.insert(e4)\n",
        "tree.insert(e5)\n",
        "\n",
        "print(tree.size)\n",
        "\n",
        "print(tree.root.left.name)\n",
        "print(tree.root.right.name)"
      ],
      "metadata": {
        "colab": {
          "base_uri": "https://localhost:8080/"
        },
        "id": "wwg3kbrKfgqr",
        "outputId": "c4d7f7e6-b8ec-4e41-a605-e8ee72c81fc1"
      },
      "execution_count": 19,
      "outputs": [
        {
          "output_type": "stream",
          "name": "stdout",
          "text": [
            "5\n",
            "Earl White\n",
            "Sue Smith\n"
          ]
        }
      ]
    },
    {
      "cell_type": "code",
      "source": [],
      "metadata": {
        "id": "GJ3ddvtFldY6"
      },
      "execution_count": null,
      "outputs": []
    }
  ]
}