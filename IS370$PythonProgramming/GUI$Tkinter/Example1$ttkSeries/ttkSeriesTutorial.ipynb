{
 "cells": [
  {
   "cell_type": "markdown",
   "metadata": {},
   "source": [
    "<h2>ttk: Themed Widgets</h2>\n",
    "<h3>1. ttk.treeview: table</h3>"
   ]
  },
  {
   "cell_type": "code",
   "execution_count": 3,
   "metadata": {},
   "outputs": [],
   "source": [
    "import tkinter as tk\n",
    "from tkinter import ttk\n",
    "\n",
    "class Window:\n",
    "    def __init__(self, master) -> None:\n",
    "        cols = ('email', 'salary')\n",
    "        treeView = ttk.Treeview(master, columns=cols, height=20)\n",
    "        treeView.pack(padx=5, pady=5)\n",
    "        treeView.heading('#0', text='Name')\n",
    "        treeView.heading('#1', text='email')\n",
    "        treeView.heading('#2', text='salary')\n",
    "        \n",
    "    # def return_number() -> int:\n",
    "    #     return 10\n",
    "        \n",
    "# print(Window.return_number())\n",
    "        \n",
    "root = tk.Tk()\n",
    "window = Window(root)\n",
    "root.mainloop()"
   ]
  }
 ],
 "metadata": {
  "kernelspec": {
   "display_name": "Python 3",
   "language": "python",
   "name": "python3"
  },
  "language_info": {
   "codemirror_mode": {
    "name": "ipython",
    "version": 3
   },
   "file_extension": ".py",
   "mimetype": "text/x-python",
   "name": "python",
   "nbconvert_exporter": "python",
   "pygments_lexer": "ipython3",
   "version": "3.10.5"
  }
 },
 "nbformat": 4,
 "nbformat_minor": 2
}
