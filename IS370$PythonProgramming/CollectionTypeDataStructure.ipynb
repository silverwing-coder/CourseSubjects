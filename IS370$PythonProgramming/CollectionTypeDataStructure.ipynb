{
 "cells": [
  {
   "cell_type": "markdown",
   "metadata": {},
   "source": [
    "<h3>List</h3>"
   ]
  },
  {
   "cell_type": "code",
   "execution_count": 23,
   "metadata": {},
   "outputs": [
    {
     "name": "stdout",
     "output_type": "stream",
     "text": [
      "[9, 5, 1, 1, 3, 4]\n",
      "[1, 1, 3, 4, 5, 9]\n",
      "[1, 1, 3, 4, 5, 9]\n"
     ]
    },
    {
     "data": {
      "text/plain": [
       "' clear() method '"
      ]
     },
     "execution_count": 23,
     "metadata": {},
     "output_type": "execute_result"
    }
   ],
   "source": [
    "myListA = [\"banana\", \"cherry\", \"apple\"]\n",
    "# print(myList)\n",
    "# for i in myListA:\n",
    "#     print(i)\n",
    "# print(len(myListA))\n",
    "\n",
    "\n",
    "myListB  = list()\n",
    "# print(myListB)\n",
    "\n",
    "''' list can contain different data-type elements '''\n",
    "myListC = [5, True, \"apple\", \"apple\"]\n",
    "# print(myListC)\n",
    "# print(myListC[2])\n",
    "\n",
    "''' can access specific element(s) by index number(s) '''\n",
    "# myListC[2] = \"banana\"\n",
    "# print(myListC[2])\n",
    "# print(myListC[1:3])\n",
    "\n",
    "''' can check if an element exists '''\n",
    "# if \"banana\" in myListC:\n",
    "#     print(True)\n",
    "# else:\n",
    "#     print(False)\n",
    "\n",
    "''' append() and remove() '''    \n",
    "# myListB.append(\"lemon\")\n",
    "# print(myListB)\n",
    "# myListB.remove(\"lemon\")\n",
    "# print(myListB)\n",
    "# myListB.insert(0, \"blueberry\")\n",
    "# print(myListB)\n",
    "\n",
    "''' pop() method '''\n",
    "# myListD = [\"banana\", \"cherry\", \"apple\"]\n",
    "# item = myListD.pop()\n",
    "# print(item)\n",
    "# print(myListD)\n",
    "\n",
    "''' reverse() '''\n",
    "myListE = [4, 3, 1, 1, 5, 9]\n",
    "myListE.reverse()\n",
    "print(myListE)\n",
    "\n",
    "''' sort() '''\n",
    "newListE = sorted(myListE)\n",
    "print(newListE)\n",
    "myListE.sort()\n",
    "print(myListE)\n",
    "\n",
    "''' clear() method '''"
   ]
  },
  {
   "cell_type": "markdown",
   "metadata": {},
   "source": []
  }
 ],
 "metadata": {
  "kernelspec": {
   "display_name": "Python 3",
   "language": "python",
   "name": "python3"
  },
  "language_info": {
   "codemirror_mode": {
    "name": "ipython",
    "version": 3
   },
   "file_extension": ".py",
   "mimetype": "text/x-python",
   "name": "python",
   "nbconvert_exporter": "python",
   "pygments_lexer": "ipython3",
   "version": "3.10.5"
  }
 },
 "nbformat": 4,
 "nbformat_minor": 2
}
