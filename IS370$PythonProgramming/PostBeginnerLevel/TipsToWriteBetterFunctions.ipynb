{
 "cells": [
  {
   "cell_type": "code",
   "execution_count": 4,
   "metadata": {},
   "outputs": [
    {
     "ename": "NotImplementedError",
     "evalue": "Connect() is missing code",
     "output_type": "error",
     "traceback": [
      "\u001b[1;31m---------------------------------------------------------------------------\u001b[0m",
      "\u001b[1;31mNotImplementedError\u001b[0m                       Traceback (most recent call last)",
      "Input \u001b[1;32mIn [4]\u001b[0m, in \u001b[0;36m<cell line: 6>\u001b[1;34m()\u001b[0m\n\u001b[0;32m      3\u001b[0m     \u001b[38;5;28;01mif\u001b[39;00m(x \u001b[38;5;241m==\u001b[39m \u001b[38;5;28;01mTrue\u001b[39;00m):\n\u001b[0;32m      4\u001b[0m         \u001b[38;5;28;01mraise\u001b[39;00m \u001b[38;5;167;01mNotImplementedError\u001b[39;00m(\u001b[38;5;124m'\u001b[39m\u001b[38;5;124mConnect() is missing code\u001b[39m\u001b[38;5;124m'\u001b[39m)\n\u001b[1;32m----> 6\u001b[0m \u001b[43mconnect\u001b[49m\u001b[43m(\u001b[49m\u001b[38;5;28;43;01mTrue\u001b[39;49;00m\u001b[43m)\u001b[49m\n",
      "Input \u001b[1;32mIn [4]\u001b[0m, in \u001b[0;36mconnect\u001b[1;34m(x)\u001b[0m\n\u001b[0;32m      2\u001b[0m \u001b[38;5;28;01mdef\u001b[39;00m \u001b[38;5;21mconnect\u001b[39m(x):\n\u001b[0;32m      3\u001b[0m     \u001b[38;5;28;01mif\u001b[39;00m(x \u001b[38;5;241m==\u001b[39m \u001b[38;5;28;01mTrue\u001b[39;00m):\n\u001b[1;32m----> 4\u001b[0m         \u001b[38;5;28;01mraise\u001b[39;00m \u001b[38;5;167;01mNotImplementedError\u001b[39;00m(\u001b[38;5;124m'\u001b[39m\u001b[38;5;124mConnect() is missing code\u001b[39m\u001b[38;5;124m'\u001b[39m)\n",
      "\u001b[1;31mNotImplementedError\u001b[0m: Connect() is missing code"
     ]
    }
   ],
   "source": [
    "''' raise conditional errors '''\n",
    "def connect(x):\n",
    "    if(x == True):\n",
    "        raise NotImplementedError('Connect() is missing code')\n",
    "\n",
    "connect(True)"
   ]
  },
  {
   "cell_type": "code",
   "execution_count": 12,
   "metadata": {},
   "outputs": [
    {
     "name": "stdout",
     "output_type": "stream",
     "text": [
      "{1: 'Bob', 2: 'Jeff', 3: 'Tom'}\n",
      "{'sam': 'Bob'}\n"
     ]
    }
   ],
   "source": [
    "''' specify return types '''\n",
    "def get_users1():\n",
    "    users:dict[int, str] = {1:'Bob', 2:'Jeff', 3:'Tom'}\n",
    "    return users\n",
    "print(get_users1())\n",
    "\n",
    "# def get_users2() -> dict[int, str]:\n",
    "#     return {1:'Bob', 2:'Jeff', 3:'Tom'}\n",
    "# print(get_users2())\n",
    "\n",
    "def get_users3() -> dict[int, str]:\n",
    "    '''\n",
    "    Retrieves the ids and usernames form a database as a dict\n",
    "    @param\n",
    "    @return: dict[int, str]\n",
    "    '''\n",
    "    return {\"sam\":'Bob'}\n",
    "print(get_users3())\n",
    "    "
   ]
  },
  {
   "cell_type": "code",
   "execution_count": 14,
   "metadata": {},
   "outputs": [
    {
     "name": "stdout",
     "output_type": "stream",
     "text": [
      "1: Bob\n",
      "2: Jeff\n",
      "3: Tom\n"
     ]
    }
   ],
   "source": [
    "def display_users(users:dict[int, str]) -> None:\n",
    "    for k, v in users.items():\n",
    "        print(k, v, sep=': ')\n",
    "        \n",
    "def main() -> None:\n",
    "    users:dict[int, str] = {1:'Bob', 2:'Jeff', 3:'Tom'}\n",
    "    display_users(users)\n",
    "    \n",
    "if __name__ == '__main__':\n",
    "    main()"
   ]
  },
  {
   "cell_type": "code",
   "execution_count": 22,
   "metadata": {},
   "outputs": [
    {
     "name": "stdout",
     "output_type": "stream",
     "text": [
      "Uploading: \"cat.mp4\" in 400p (Private)\n"
     ]
    }
   ],
   "source": [
    "\"\"\" enumerator \"\"\"\n",
    "from enum import Enum\n",
    "\n",
    "class Quality(Enum): \n",
    "    LOW: int = 400\n",
    "    MEDIUM: int = 1000\n",
    "    HIGH: int = 1440\n",
    "    \n",
    "class Privacy(Enum):\n",
    "    PRIVATE: str = 'Private'\n",
    "    UNLISTED: str = 'Unlisted'\n",
    "    PUBLIC: str = 'PUblic'\n",
    "    \n",
    "def upload(file: str, quality: Quality, privacy: Privacy) -> None:\n",
    "    print(f'Uploading: \"{file}\" in {quality.value}p ({privacy.value})')\n",
    "    \n",
    "def main() -> None:\n",
    "    # upload('cat.mp4', Quality.LOW, Privacy.PRIVATE)\n",
    "    upload('cat.mp4', quality=Quality.LOW, privacy=Privacy.PRIVATE)\n",
    "    \n",
    "if __name__ == '__main__':    \n",
    "    main()"
   ]
  },
  {
   "cell_type": "code",
   "execution_count": 27,
   "metadata": {},
   "outputs": [
    {
     "name": "stdout",
     "output_type": "stream",
     "text": [
      "('A', 'B', 'C')\n",
      "A-B-C\n",
      "('A',)\n",
      "A\n",
      "('A', 'B', 'C', 'D', 'E', 'F')\n",
      "A*B*C*D*E*F\n"
     ]
    }
   ],
   "source": [
    "\"\"\" join() method with seperator \"\"\"\n",
    "# def join_text(text1: str, text2: str, text3: str, *, sep: str) -> str:\n",
    "#     return sep.join([text1, text2, text3])\n",
    "\n",
    "def join_text(*args, sep: str) -> str:\n",
    "    # print(args)\n",
    "    return sep.join(args)\n",
    "\n",
    "def main() -> None:\n",
    "    print(join_text('A', 'B', 'C', sep='-'))\n",
    "    print(join_text('A', sep='-'))\n",
    "    print(join_text('A', 'B', 'C', 'D', 'E', 'F', sep='*'))\n",
    "    \n",
    "if __name__ == '__main__':\n",
    "    main()\n",
    "    \n",
    "    "
   ]
  },
  {
   "cell_type": "code",
   "execution_count": null,
   "metadata": {},
   "outputs": [],
   "source": []
  }
 ],
 "metadata": {
  "kernelspec": {
   "display_name": "Python 3",
   "language": "python",
   "name": "python3"
  },
  "language_info": {
   "codemirror_mode": {
    "name": "ipython",
    "version": 3
   },
   "file_extension": ".py",
   "mimetype": "text/x-python",
   "name": "python",
   "nbconvert_exporter": "python",
   "pygments_lexer": "ipython3",
   "version": "3.10.5"
  }
 },
 "nbformat": 4,
 "nbformat_minor": 2
}
