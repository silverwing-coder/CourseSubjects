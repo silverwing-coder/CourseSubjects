{
 "cells": [
  {
   "cell_type": "markdown",
   "metadata": {},
   "source": [
    "<h3>Useful F-String Tricks</h3>"
   ]
  },
  {
   "cell_type": "code",
   "execution_count": 9,
   "metadata": {},
   "outputs": [
    {
     "name": "stdout",
     "output_type": "stream",
     "text": [
      "            variable\n",
      "variable            \n",
      "variable            \n",
      "      variable      \n",
      "____________variable\n",
      "variable$$$$$$$$$$$$\n",
      "******variable******\n"
     ]
    }
   ],
   "source": [
    "n: int = 10_0000_000\n",
    "print(n)\n",
    "print(f'{n:_}')\n",
    "print(f'{n:,}')\n",
    "\n",
    "var:str = 'variable'\n",
    "print(f'{var:>20}') # right align in 20 spacaces\n",
    "print(f'{var:<20}') # left align in 20 spacaces (default: left align)\n",
    "print(f'{var:20}') # left align in 20 spacaces (default: left align)\n",
    "print(f'{var:^20}') # center align in 20 spacaces\n",
    "\n",
    "print(f'{var:_>20}') # fill empty spaces with characters\n",
    "print(f'{var:$<20}') # fill empty spaces with characters\n",
    "print(f'{var:*^20}') # fill empty spaces with characters"
   ]
  },
  {
   "cell_type": "code",
   "execution_count": 14,
   "metadata": {},
   "outputs": [
    {
     "name": "stdout",
     "output_type": "stream",
     "text": [
      "03.04.24 (09:02:13)\n",
      "Wed Apr  3 09:02:13 2024\n",
      "09 AM\n"
     ]
    }
   ],
   "source": [
    "from datetime import datetime\n",
    "\n",
    "now: datetime = datetime.now()\n",
    "print(f'{now:%d.%m.%y (%H:%M:%S)}')\n",
    "print(f'{now:%c}')\n",
    "print(f'{now:%I %p}')\n",
    "\n"
   ]
  },
  {
   "cell_type": "code",
   "execution_count": 20,
   "metadata": {},
   "outputs": [
    {
     "name": "stdout",
     "output_type": "stream",
     "text": [
      "1234.5678\n",
      "1234.57\n",
      "1234.57\n",
      "1235\n",
      "1,234.568\n"
     ]
    }
   ],
   "source": [
    "n:float = 1234.5678\n",
    "print(n)\n",
    "print(round(n, 2))\n",
    "print(f'{n:.2f}')\n",
    "print(f'{n:.0f}')\n",
    "print(f'{n:,.3f}')"
   ]
  },
  {
   "cell_type": "code",
   "execution_count": 25,
   "metadata": {},
   "outputs": [
    {
     "name": "stdout",
     "output_type": "stream",
     "text": [
      "a + b = 15\n",
      "a + b = 15\n",
      "my_var = Hello world\n",
      "my_var = 'Hello world'\n"
     ]
    }
   ],
   "source": [
    "a: int = 5\n",
    "b: int = 10\n",
    "my_var = 'Hello world'\n",
    "\n",
    "print(f'a + b = {a + b}')\n",
    "print(f'{a + b = }')\n",
    "print(f'my_var = {my_var}')\n",
    "print(f'{my_var = }')"
   ]
  },
  {
   "cell_type": "markdown",
   "metadata": {},
   "source": [
    "<h3>Good Python Habits</h3>"
   ]
  },
  {
   "cell_type": "code",
   "execution_count": 27,
   "metadata": {},
   "outputs": [
    {
     "name": "stdout",
     "output_type": "stream",
     "text": [
      "Connecting to internet ....\n",
      "You are connected!!\n"
     ]
    }
   ],
   "source": [
    "import time\n",
    "\n",
    "def connect() -> None:\n",
    "    print('Connecting to internet ....')\n",
    "    time.sleep(3)\n",
    "    print('You are connected!!')\n",
    "\n",
    "''' prevent execution of connect() call when imported by other module '''\n",
    "if __name__ == '__main__':    \n",
    "    connect()"
   ]
  },
  {
   "cell_type": "code",
   "execution_count": 1,
   "metadata": {},
   "outputs": [
    {
     "name": "stdout",
     "output_type": "stream",
     "text": [
      "Hello, World!\n",
      "Bye world!\n"
     ]
    }
   ],
   "source": [
    "def greet() -> None:\n",
    "    print('Hello, World!')\n",
    "    \n",
    "def bye() -> None:\n",
    "    print('Bye world!')\n",
    "    \n",
    "def main() -> None:\n",
    "    greet()\n",
    "    bye()\n",
    "    \n",
    "if __name__ == '__main__':\n",
    "    main()\n",
    "    "
   ]
  },
  {
   "cell_type": "code",
   "execution_count": null,
   "metadata": {},
   "outputs": [],
   "source": []
  }
 ],
 "metadata": {
  "kernelspec": {
   "display_name": "Python 3",
   "language": "python",
   "name": "python3"
  },
  "language_info": {
   "codemirror_mode": {
    "name": "ipython",
    "version": 3
   },
   "file_extension": ".py",
   "mimetype": "text/x-python",
   "name": "python",
   "nbconvert_exporter": "python",
   "pygments_lexer": "ipython3",
   "version": "3.10.5"
  }
 },
 "nbformat": 4,
 "nbformat_minor": 2
}
