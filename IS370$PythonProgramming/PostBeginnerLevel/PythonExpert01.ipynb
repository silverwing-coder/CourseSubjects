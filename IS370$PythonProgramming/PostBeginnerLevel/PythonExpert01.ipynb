{
 "cells": [
  {
   "cell_type": "markdown",
   "metadata": {},
   "source": [
    "<h3>Expert Python Tutorial #1</h3>"
   ]
  },
  {
   "cell_type": "code",
   "execution_count": 3,
   "metadata": {},
   "outputs": [
    {
     "name": "stdout",
     "output_type": "stream",
     "text": [
      "BARK\n"
     ]
    }
   ],
   "source": [
    "class Dog:\n",
    "    def __init__(self) -> None:\n",
    "        self.bark()\n",
    "        \n",
    "    def bark():\n",
    "        print(\"BARK\")\n",
    "        \n",
    "Dog.bark()\n",
    "\n",
    "dog = Dog\n",
    "# dog.bark()\n"
   ]
  },
  {
   "cell_type": "code",
   "execution_count": 4,
   "metadata": {},
   "outputs": [
    {
     "name": "stdout",
     "output_type": "stream",
     "text": [
      "<class '__main__.make_class.<locals>.Dog'>\n",
      "10\n"
     ]
    }
   ],
   "source": [
    "def make_class(x):\n",
    "    class Dog:\n",
    "        def __init__(self, name) -> None:\n",
    "            self.name = name\n",
    "            \n",
    "        def print_value():\n",
    "            print(x)\n",
    "            \n",
    "    return Dog\n",
    "\n",
    "cls = make_class(10)\n",
    "print(cls)\n",
    "cls.print_value()"
   ]
  },
  {
   "cell_type": "code",
   "execution_count": null,
   "metadata": {},
   "outputs": [],
   "source": []
  }
 ],
 "metadata": {
  "kernelspec": {
   "display_name": "Python 3",
   "language": "python",
   "name": "python3"
  },
  "language_info": {
   "codemirror_mode": {
    "name": "ipython",
    "version": 3
   },
   "file_extension": ".py",
   "mimetype": "text/x-python",
   "name": "python",
   "nbconvert_exporter": "python",
   "pygments_lexer": "ipython3",
   "version": "3.10.5"
  }
 },
 "nbformat": 4,
 "nbformat_minor": 2
}
